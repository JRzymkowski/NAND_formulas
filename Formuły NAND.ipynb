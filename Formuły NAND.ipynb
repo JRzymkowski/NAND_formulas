{
 "cells": [
  {
   "cell_type": "code",
   "execution_count": 28,
   "metadata": {},
   "outputs": [
    {
     "name": "stdout",
     "output_type": "stream",
     "text": [
      "pppp 12\n",
      "pppq 14\n",
      "ppqp 14\n",
      "ppqq 14\n",
      "pqpp 12\n",
      "pqpq 12\n",
      "pqqp 12\n",
      "pqqq 12\n"
     ]
    }
   ],
   "source": [
    "import itertools\n",
    "\n",
    "formula_len = 4\n",
    "variables = 'pq'\n",
    "\n",
    "formulas = itertools.product(variables, repeat=formula_len-1)\n",
    "\n",
    "def NAND(A, B):\n",
    "    if A == '1' and B == '1':\n",
    "        return '0'\n",
    "    else:\n",
    "        return '1'\n",
    "\n",
    "def valuepq(formula, p, q):\n",
    "    oneszeros = formula.replace('p', p).replace('q', q)\n",
    "    currval = NAND(oneszeros[-2], oneszeros[-1])\n",
    "    for k in range(len(formula)-2):\n",
    "        currval = NAND(oneszeros[-3-k], currval)\n",
    "    return int(currval)\n",
    "\n",
    "def value(formula):\n",
    "    return 8*valuepq(formula,'0','0')+4*valuepq(formula,'0','1')+2*valuepq(formula,'1','0')+1*valuepq(formula,'1','1')\n",
    "\n",
    "for f in formulas:\n",
    "    print('p'+''.join(f) + \" \" + str(value('p'+''.join(f))))"
   ]
  },
  {
   "cell_type": "code",
   "execution_count": 12,
   "metadata": {},
   "outputs": [
    {
     "data": {
      "text/plain": [
       "'cd'"
      ]
     },
     "execution_count": 12,
     "metadata": {},
     "output_type": "execute_result"
    }
   ],
   "source": [
    "'abcd'[-2:]"
   ]
  },
  {
   "cell_type": "code",
   "execution_count": 197,
   "metadata": {},
   "outputs": [
    {
     "name": "stdout",
     "output_type": "stream",
     "text": [
      "[1, [[[[[0, 1], [1, 0]], 0], 1], 1]]\n"
     ]
    },
    {
     "data": {
      "text/plain": [
       "0"
      ]
     },
     "execution_count": 197,
     "metadata": {},
     "output_type": "execute_result"
    }
   ],
   "source": [
    "def generatelist(formula):\n",
    "    if formula[0] != 'X':\n",
    "        return formula[0], formula[1:]\n",
    "    else:\n",
    "        first, firstrest = generatelist(formula[1:])\n",
    "        second, finalrest = generatelist(firstrest)\n",
    "        return [first, second], finalrest\n",
    "    \n",
    "form = \"XpXXXXXqpXpqqpp\"\n",
    "generatelist(form)\n",
    "\n",
    "def NAND(A, B):\n",
    "    if A == 1 and B == 1:\n",
    "        return 0\n",
    "    else:\n",
    "        return 1\n",
    "\n",
    "def depr_evaluatelist(lformula, values):\n",
    "    if type(lformula) != list:\n",
    "        return values[lformula]\n",
    "    else:\n",
    "        A = evaluatelist(lformula[0],values)\n",
    "        B = evaluatelist(lformula[1],values)\n",
    "        return NAND(A,B)\n",
    "    \n",
    "def evaluate10list(lformula):\n",
    "    if type(lformula) != list:\n",
    "        return lformula\n",
    "    else:\n",
    "        A = evaluate10list(lformula[0])\n",
    "        B = evaluate10list(lformula[1])\n",
    "        return NAND(A,B)\n",
    "    \n",
    "def fillvalues(lformula, values):\n",
    "    if type(lformula) != list:\n",
    "        return values[lformula]\n",
    "    else:\n",
    "        A = fillvalues(lformula[0],values)\n",
    "        B = fillvalues(lformula[1],values)\n",
    "        return [A,B]\n",
    "    \n",
    "print(fillvalues(generatelist(form)[0], {'p' : 1, 'q' : 0}))\n",
    "    \n",
    "evaluate10list(fillvalues(generatelist(form)[0], {'p' : 1, 'q' : 0}))"
   ]
  },
  {
   "cell_type": "code",
   "execution_count": 137,
   "metadata": {},
   "outputs": [
    {
     "data": {
      "text/plain": [
       "[0, [[[[[1, 2], [3, 4]], 5], 6], 7]]"
      ]
     },
     "execution_count": 137,
     "metadata": {},
     "output_type": "execute_result"
    }
   ],
   "source": [
    "from itertools import count\n",
    "\n",
    "c = count(start=0, step=1)\n",
    "\n",
    "def deprfillnumbers(lformula):\n",
    "    if type(lformula) != list:\n",
    "        return next(c)\n",
    "    else:\n",
    "        A = fillnumbers(lformula[0])\n",
    "        B = fillnumbers(lformula[1])\n",
    "        return [A,B]\n",
    "    \n",
    "def fillnumbers(lformula, numbers):\n",
    "    if type(lformula) != list:\n",
    "        return next(numbers)\n",
    "    else:\n",
    "        A = fillnumbers(lformula[0], numbers)\n",
    "        B = fillnumbers(lformula[1], numbers)\n",
    "        return [A,B]\n",
    "    \n",
    "fillnumbers(generatelist(form)[0], iter(list(range(8))))"
   ]
  },
  {
   "cell_type": "code",
   "execution_count": 135,
   "metadata": {},
   "outputs": [
    {
     "name": "stdout",
     "output_type": "stream",
     "text": [
      "[['p', ['p', ['p', ['p', 'p']]]], ['p', ['p', [['p', 'p'], 'p']]], ['p', [['p', 'p'], ['p', 'p']]], ['p', [['p', ['p', 'p']], 'p']], ['p', [[['p', 'p'], 'p'], 'p']], [['p', 'p'], ['p', ['p', 'p']]], [['p', 'p'], [['p', 'p'], 'p']], [['p', ['p', 'p']], ['p', 'p']], [[['p', 'p'], 'p'], ['p', 'p']], [['p', ['p', ['p', 'p']]], 'p'], [['p', [['p', 'p'], 'p']], 'p'], [[['p', 'p'], ['p', 'p']], 'p'], [[['p', ['p', 'p']], 'p'], 'p'], [[[['p', 'p'], 'p'], 'p'], 'p']]\n"
     ]
    }
   ],
   "source": [
    "def generatelformulas(n):\n",
    "    if n == 1:\n",
    "        print('p')\n",
    "        return ['p']\n",
    "    elif n == 2:\n",
    "        return [['p'], [['p', 'p']]]\n",
    "    else:\n",
    "        genformnminus1 = generatelformulas(n-1)\n",
    "        formulasn = []\n",
    "        for k in range(n-1):\n",
    "            for x in genformnminus1[k]:\n",
    "                for y in genformnminus1[n-k-2]:\n",
    "                    formulasn.append([x,y])\n",
    "        return genformnminus1 + [formulasn]\n",
    "    \n",
    "def generatelformulasforn(n):\n",
    "    return generatelformulas(n)[n-1]\n",
    "        \n",
    "print(generatelformulasforn(5))"
   ]
  },
  {
   "cell_type": "raw",
   "metadata": {},
   "source": [
    "print(generatelformula2))"
   ]
  },
  {
   "cell_type": "code",
   "execution_count": 130,
   "metadata": {},
   "outputs": [
    {
     "name": "stdout",
     "output_type": "stream",
     "text": [
      "0 1\n",
      "1 2\n",
      "2 5\n",
      "3 15\n",
      "4 52\n",
      "5 203\n",
      "6 877\n",
      "7 4140\n",
      "8 21147\n",
      "9 115975\n",
      "10 678570\n",
      "11 4213597\n"
     ]
    }
   ],
   "source": [
    "\n",
    "def seq(n):\n",
    "    if n == 0:\n",
    "        return [[0]]\n",
    "    else:\n",
    "        seqnminus1 = seq(n-1)\n",
    "        seqs = []\n",
    "        for s in seqnminus1:     \n",
    "            for k in range(max(s)+2):\n",
    "                seqs.append(s+[k])\n",
    "        return seqs\n",
    "\n",
    "for n in range(12):\n",
    "    print(n, len(seq(n)))"
   ]
  },
  {
   "cell_type": "code",
   "execution_count": 222,
   "metadata": {},
   "outputs": [
    {
     "name": "stdout",
     "output_type": "stream",
     "text": [
      "2688\n",
      "[[[0, 1], [[1, 0], 1]], 1]\n",
      "[0, [[[0, 1], 0], [0, 0]]]\n",
      "[[0, [1, [0, 1]]], [0, 0]]\n"
     ]
    }
   ],
   "source": [
    "forms8 = generatelformulasforn(8)\n",
    "seqs82 = truncseq(8,0)\n",
    "\n",
    "formulas82 = []\n",
    "\n",
    "for f in forms8:\n",
    "    for s in seqs82:\n",
    "        formulas82.append(fillnumbers(f, iter(s)))\n",
    "        \n",
    "print(len(formulas66))\n",
    "print(formulas66[2230])\n",
    "print(formulas66[528])\n",
    "print(formulas66[1513])"
   ]
  },
  {
   "cell_type": "code",
   "execution_count": 153,
   "metadata": {},
   "outputs": [
    {
     "data": {
      "text/plain": [
       "[[0, 0, 0, 0, 0, 0],\n",
       " [0, 0, 0, 0, 0, 1],\n",
       " [0, 0, 0, 0, 1, 0],\n",
       " [0, 0, 0, 0, 1, 1],\n",
       " [0, 0, 0, 1, 0, 0],\n",
       " [0, 0, 0, 1, 0, 1],\n",
       " [0, 0, 0, 1, 1, 0],\n",
       " [0, 0, 0, 1, 1, 1],\n",
       " [0, 0, 1, 0, 0, 0],\n",
       " [0, 0, 1, 0, 0, 1],\n",
       " [0, 0, 1, 0, 1, 0],\n",
       " [0, 0, 1, 0, 1, 1],\n",
       " [0, 0, 1, 1, 0, 0],\n",
       " [0, 0, 1, 1, 0, 1],\n",
       " [0, 0, 1, 1, 1, 0],\n",
       " [0, 0, 1, 1, 1, 1],\n",
       " [0, 1, 0, 0, 0, 0],\n",
       " [0, 1, 0, 0, 0, 1],\n",
       " [0, 1, 0, 0, 1, 0],\n",
       " [0, 1, 0, 0, 1, 1],\n",
       " [0, 1, 0, 1, 0, 0],\n",
       " [0, 1, 0, 1, 0, 1],\n",
       " [0, 1, 0, 1, 1, 0],\n",
       " [0, 1, 0, 1, 1, 1],\n",
       " [0, 1, 1, 0, 0, 0],\n",
       " [0, 1, 1, 0, 0, 1],\n",
       " [0, 1, 1, 0, 1, 0],\n",
       " [0, 1, 1, 0, 1, 1],\n",
       " [0, 1, 1, 1, 0, 0],\n",
       " [0, 1, 1, 1, 0, 1],\n",
       " [0, 1, 1, 1, 1, 0],\n",
       " [0, 1, 1, 1, 1, 1]]"
      ]
     },
     "execution_count": 153,
     "metadata": {},
     "output_type": "execute_result"
    }
   ],
   "source": [
    "def truncseq(n, upper):\n",
    "    if n == 0:\n",
    "        return [[0]]\n",
    "    else:\n",
    "        seqnminus1 = truncseq(n-1, upper)\n",
    "        seqs = []\n",
    "        for s in seqnminus1:     \n",
    "            for k in range(min(max(s),upper)+2):\n",
    "                seqs.append(s+[k])\n",
    "        return seqs\n",
    "\n",
    "    \n",
    "truncseq(5,0)"
   ]
  },
  {
   "cell_type": "code",
   "execution_count": 201,
   "metadata": {},
   "outputs": [],
   "source": [
    "def eval2var(formula):\n",
    "    summa = 0\n",
    "    for i in range(4):\n",
    "        [p, q] = [i // 2, i % 2]\n",
    "        summa = summa + 2**i * evaluate10list(fillvalues(formula, [p,q]))\n",
    "    return summa"
   ]
  },
  {
   "cell_type": "code",
   "execution_count": 251,
   "metadata": {},
   "outputs": [],
   "source": [
    "interpretation = {0: 'F', 1: 'N(p^q)', 2: 'Np^q', 3: 'Np', 4: 'p^Nq', 5: 'Nq', 6: 'p!q', 7: 'p|q', 8: 'p^q', 9: 'p=q',\n",
    "                 10: 'q', 11: 'p=>q', 12: 'p', 13:'q=>p', 14: 'pvq', 15: 'T'}"
   ]
  },
  {
   "cell_type": "code",
   "execution_count": 227,
   "metadata": {},
   "outputs": [
    {
     "name": "stdout",
     "output_type": "stream",
     "text": [
      "0 640 0.005827505827505828\n",
      "1 196 0.0017846736596736597\n",
      "2 2024 0.01842948717948718\n",
      "3 24070 0.21916885198135197\n",
      "4 3416 0.031104312354312356\n",
      "5 9412 0.08570075757575757\n",
      "6 2112 0.019230769230769232\n",
      "7 21874 0.19917322261072262\n",
      "8 3664 0.033362470862470864\n",
      "9 704 0.00641025641025641\n",
      "10 4476 0.04075611888111888\n",
      "11 10668 0.09713723776223776\n",
      "12 9740 0.08868735431235432\n",
      "13 5908 0.05379516317016317\n",
      "14 3624 0.03299825174825175\n",
      "15 7296 0.06643356643356643\n"
     ]
    }
   ],
   "source": [
    "hist = {}\n",
    "for n in range(16):\n",
    "    hist[n] = 0\n",
    "\n",
    "for f in formulas82:\n",
    "    ev = eval2var(f)\n",
    "    hist[ev] = hist[ev] + 1\n",
    "    \n",
    "for k, v in hist.items():\n",
    "    print(k, v, v/len(formulas82))"
   ]
  },
  {
   "cell_type": "markdown",
   "metadata": {},
   "source": [
    "## 2 // 2"
   ]
  },
  {
   "cell_type": "code",
   "execution_count": 165,
   "metadata": {},
   "outputs": [
    {
     "data": {
      "text/plain": [
       "['a', 'b', 'c']"
      ]
     },
     "execution_count": 165,
     "metadata": {},
     "output_type": "execute_result"
    }
   ],
   "source": [
    "list('abc')"
   ]
  },
  {
   "cell_type": "code",
   "execution_count": 252,
   "metadata": {},
   "outputs": [
    {
     "name": "stdout",
     "output_type": "stream",
     "text": [
      " 15 15 15 15 15 15 15 15 15 15 15 15 15 15 15 15\n",
      " 15 14 15 14 15 14 15 14 15 14 15 14 15 14 15 14\n",
      " 15 15 11 11 15 15 11 11 15 15 11 11 15 15 11 11\n",
      " 15 14 11 10 15 14 11 10 15 14 11 10 15 14 11 10\n",
      " 15 15 15 15 13 13 13 13 15 15 15 15 13 13 13 13\n",
      " 15 14 15 14 13 12 13 12 15 14 15 14 13 12 13 12\n",
      " 15 15 11 11 13 13  9  9 15 15 11 11 13 13  9  9\n",
      " 15 14 11 10 13 12  9  8 15 14 11 10 13 12  9  8\n",
      " 15 15 15 15 15 15 15 15  7  7  7  7  7  7  7  7\n",
      " 15 14 15 14 15 14 15 14  7  6  7  6  7  6  7  6\n",
      " 15 15 11 11 15 15 11 11  7  7  3  3  7  7  3  3\n",
      " 15 14 11 10 15 14 11 10  7  6  3  2  7  6  3  2\n",
      " 15 15 15 15 13 13 13 13  7  7  7  7  5  5  5  5\n",
      " 15 14 15 14 13 12 13 12  7  6  7  6  5  4  5  4\n",
      " 15 15 11 11 13 13  9  9  7  7  3  3  5  5  1  1\n",
      " 15 14 11 10 13 12  9  8  7  6  3  2  5  4  1  0\n",
      "      T      T      T      T      T      T      T      T      T      T      T      T      T      T      T      T\n",
      "      T    pvq      T    pvq      T    pvq      T    pvq      T    pvq      T    pvq      T    pvq      T    pvq\n",
      "      T      T   p=>q   p=>q      T      T   p=>q   p=>q      T      T   p=>q   p=>q      T      T   p=>q   p=>q\n",
      "      T    pvq   p=>q      q      T    pvq   p=>q      q      T    pvq   p=>q      q      T    pvq   p=>q      q\n",
      "      T      T      T      T   q=>p   q=>p   q=>p   q=>p      T      T      T      T   q=>p   q=>p   q=>p   q=>p\n",
      "      T    pvq      T    pvq   q=>p      p   q=>p      p      T    pvq      T    pvq   q=>p      p   q=>p      p\n",
      "      T      T   p=>q   p=>q   q=>p   q=>p    p=q    p=q      T      T   p=>q   p=>q   q=>p   q=>p    p=q    p=q\n",
      "      T    pvq   p=>q      q   q=>p      p    p=q    p^q      T    pvq   p=>q      q   q=>p      p    p=q    p^q\n",
      "      T      T      T      T      T      T      T      T    p|q    p|q    p|q    p|q    p|q    p|q    p|q    p|q\n",
      "      T    pvq      T    pvq      T    pvq      T    pvq    p|q    p!q    p|q    p!q    p|q    p!q    p|q    p!q\n",
      "      T      T   p=>q   p=>q      T      T   p=>q   p=>q    p|q    p|q     Np     Np    p|q    p|q     Np     Np\n",
      "      T    pvq   p=>q      q      T    pvq   p=>q      q    p|q    p!q     Np   Np^q    p|q    p!q     Np   Np^q\n",
      "      T      T      T      T   q=>p   q=>p   q=>p   q=>p    p|q    p|q    p|q    p|q     Nq     Nq     Nq     Nq\n",
      "      T    pvq      T    pvq   q=>p      p   q=>p      p    p|q    p!q    p|q    p!q     Nq   p^Nq     Nq   p^Nq\n",
      "      T      T   p=>q   p=>q   q=>p   q=>p    p=q    p=q    p|q    p|q     Np     Np     Nq     Nq N(p^q) N(p^q)\n",
      "      T    pvq   p=>q      q   q=>p      p    p=q    p^q    p|q    p!q     Np   Np^q     Nq   p^Nq N(p^q)      F\n"
     ]
    }
   ],
   "source": [
    "def impliedval2var(A, p, q):\n",
    "    bin4 = [A // 8, (A % 8) // 4, (A % 4) // 2, A % 2][::-1]\n",
    "    return bin4[q*2+p]\n",
    "\n",
    "\n",
    "def NAND2vareval(A, B):\n",
    "    summa = 0\n",
    "    for i in range(4):\n",
    "        [p, q] = [i // 2, i % 2]\n",
    "        summa = summa + 2**i * NAND(impliedval2var(A, p, q), impliedval2var(B, p, q))\n",
    "    return summa\n",
    "\n",
    "for i in range(16):\n",
    "    row = ''\n",
    "    for j in range(16):\n",
    "        ev = NAND2vareval(i,j)\n",
    "        row = row + \" \" + (\" \" if ev < 10 else \"\") + str(ev)\n",
    "    print(row)\n",
    "    \n",
    "for i in range(16):\n",
    "    row = ''\n",
    "    for j in range(16):\n",
    "        ev = interpretation[NAND2vareval(i,j)]\n",
    "        ev = \" \"*(6-len(ev)) + ev\n",
    "        row = row + \" \" + ev\n",
    "    print(row)"
   ]
  },
  {
   "cell_type": "code",
   "execution_count": 260,
   "metadata": {},
   "outputs": [
    {
     "name": "stderr",
     "output_type": "stream",
     "text": [
      "C:\\Users\\Jan\\Anaconda3\\lib\\site-packages\\ipykernel_launcher.py:24: DeprecationWarning: `imsave` is deprecated!\n",
      "`imsave` is deprecated in SciPy 1.0.0, and will be removed in 1.2.0.\n",
      "Use ``imageio.imwrite`` instead.\n"
     ]
    }
   ],
   "source": [
    "def impliedval3var(A, p, q, r):\n",
    "    bin8 = [A // 128, (A % 128) // 64, (A % 64) // 32, (A % 32) // 16, (A % 16) // 8, (A % 8) // 4, (A % 4) // 2, A % 2][::-1]\n",
    "    return bin8[r*4+q*2+p]\n",
    "\n",
    "\n",
    "def NAND3vareval(A, B):\n",
    "    summa = 0\n",
    "    for i in range(8):\n",
    "        [p, q, r] = [i // 4, (i % 4) // 2, i % 2]\n",
    "        summa = summa + 2**i * NAND(impliedval3var(A, p, q, r), impliedval3var(B, p, q, r))\n",
    "    return summa\n",
    "\n",
    "import numpy as np\n",
    "\n",
    "M = np.zeros((256,256,3))\n",
    "\n",
    "for i in range(256):\n",
    "    row = ''\n",
    "    for j in range(256):\n",
    "        ev = NAND3vareval(i,j)\n",
    "        M[i, j] = [ev // 64, (ev % 64) % 4, ev % 4]\n",
    "        \n",
    "import scipy.misc\n",
    "scipy.misc.imsave('outfile.jpg', M)"
   ]
  },
  {
   "cell_type": "code",
   "execution_count": null,
   "metadata": {},
   "outputs": [],
   "source": []
  }
 ],
 "metadata": {
  "kernelspec": {
   "display_name": "Python 3",
   "language": "python",
   "name": "python3"
  },
  "language_info": {
   "codemirror_mode": {
    "name": "ipython",
    "version": 3
   },
   "file_extension": ".py",
   "mimetype": "text/x-python",
   "name": "python",
   "nbconvert_exporter": "python",
   "pygments_lexer": "ipython3",
   "version": "3.6.5"
  }
 },
 "nbformat": 4,
 "nbformat_minor": 2
}
